{
 "cells": [
  {
   "cell_type": "markdown",
   "metadata": {},
   "source": [
    "# Effects of Wear on Body Armour"
   ]
  },
  {
   "cell_type": "markdown",
   "metadata": {},
   "source": [
    "## Importing Data "
   ]
  },
  {
   "cell_type": "markdown",
   "metadata": {},
   "source": [
    "Published data by the National Institute of Justic and National Research Council of Canada was used. Attempts to automatically extract tables using various Python libraries were not that successful. Hence, information was manually keyed into a separate excel sheet. "
   ]
  },
  {
   "cell_type": "code",
   "execution_count": null,
   "metadata": {},
   "outputs": [],
   "source": [
    "## Import data from excel\n",
    "\n",
    "## Data extracted from the \"Ballistic Tests of Used Soft Body Armor\" research by the NIJ and NRCC\n",
    "\n",
    "import pandas as pd\n",
    "import numpy as np\n",
    "\n",
    "df1 = pd.read_excel('BallisticTestsofUsedSoftBodyArmor.xlsx','v50 limit')\n",
    "df2 = pd.read_excel('BallisticTestsofUsedSoftBodyArmor.xlsx','v50 raw test data')\n",
    "df3 = pd.read_excel('BallisticTestsofUsedSoftBodyArmor.xlsx','Deformation')\n",
    "df4 = pd.read_excel('BallisticTestsofUsedSoftBodyArmor.xlsx','Complete Ballistic Data')"
   ]
  },
  {
   "cell_type": "markdown",
   "metadata": {},
   "source": [
    "To help with subsequent analysis, the data was divided based on the extent of penetration by the projectile (partial or complete), and further split based on the impact face (front or back)"
   ]
  },
  {
   "cell_type": "code",
   "execution_count": 2,
   "metadata": {},
   "outputs": [
    {
     "name": "stderr",
     "output_type": "stream",
     "text": [
      "C:\\ProgramData\\Anaconda3\\lib\\site-packages\\ipykernel_launcher.py:3: SettingWithCopyWarning: \n",
      "A value is trying to be set on a copy of a slice from a DataFrame\n",
      "\n",
      "See the caveats in the documentation: http://pandas.pydata.org/pandas-docs/stable/user_guide/indexing.html#returning-a-view-versus-a-copy\n",
      "  This is separate from the ipykernel package so we can avoid doing imports until\n",
      "C:\\ProgramData\\Anaconda3\\lib\\site-packages\\ipykernel_launcher.py:12: SettingWithCopyWarning: \n",
      "A value is trying to be set on a copy of a slice from a DataFrame\n",
      "\n",
      "See the caveats in the documentation: http://pandas.pydata.org/pandas-docs/stable/user_guide/indexing.html#returning-a-view-versus-a-copy\n",
      "  if sys.path[0] == '':\n"
     ]
    }
   ],
   "source": [
    "## Extract data for PP cases. Focus is on effects of wet/dry and wear on velocity\n",
    "df2_PP = df2[['Sample','PP average vel (ft/s)','Wet/Dry','Wear','Used for v50 calculations','Caliber']]\n",
    "df2_PP.dropna(axis = 0, inplace = True)\n",
    "df2_PP = df2_PP.drop('Used for v50 calculations', axis = 1)\n",
    "\n",
    "## to split the data into front and back\n",
    "df2_PP_F = df2_PP[df2_PP['Sample'].str.contains('F')]\n",
    "df2_PP_B = df2_PP[df2_PP['Sample'].str.contains('B')]\n",
    "\n",
    "## Do the same for CP\n",
    "df2_CP = df2[['Sample','CP (ft/s)','Wet/Dry','Wear','Used for v50 calculations','Caliber']]\n",
    "df2_CP.dropna(axis = 0, inplace = True)\n",
    "df2_CP = df2_CP.drop('Used for v50 calculations', axis = 1)\n",
    "df2_CP_F = df2_CP[df2_CP['Sample'].str.contains('F')]\n",
    "df2_CP_B = df2_CP[df2_CP['Sample'].str.contains('B')]"
   ]
  },
  {
   "cell_type": "markdown",
   "metadata": {},
   "source": [
    "The original data categorised the extent of wear into \"Unused\", \"Light\", \"Moderate\", and \"Heavy\". To facilitate subsequent analysis, these categorical variables had to be converted into integer data. "
   ]
  },
  {
   "cell_type": "code",
   "execution_count": 3,
   "metadata": {},
   "outputs": [
    {
     "name": "stderr",
     "output_type": "stream",
     "text": [
      "C:\\ProgramData\\Anaconda3\\lib\\site-packages\\pandas\\core\\indexing.py:494: SettingWithCopyWarning: \n",
      "A value is trying to be set on a copy of a slice from a DataFrame.\n",
      "Try using .loc[row_indexer,col_indexer] = value instead\n",
      "\n",
      "See the caveats in the documentation: http://pandas.pydata.org/pandas-docs/stable/user_guide/indexing.html#returning-a-view-versus-a-copy\n",
      "  self.obj[item] = s\n"
     ]
    }
   ],
   "source": [
    "## Convert categorical variables to integers to enable subsequent plotting and/or analysis\n",
    "\n",
    "## Since Wet/Dry isn't ordinal, use onehot method to convert\n",
    "test_onehot = pd.get_dummies(df2_PP_F['Wet/Dry'])\n",
    "\n",
    "## Assuming that Unused > Light > Moderate > Heavy use, number there in order, from 1 to 4\n",
    "temp = df2_PP_F['Wear']\n",
    "\n",
    "for index, row in df2_PP_F.iterrows():\n",
    "    if row['Wear'] == 'Unused':\n",
    "        df2_PP_F.loc[index,'Wear'] = 1\n",
    "    elif row['Wear'] == 'Light':\n",
    "        df2_PP_F.loc[index,'Wear'] = 2\n",
    "    elif row['Wear'] == 'Moderate':\n",
    "        df2_PP_F.loc[index,'Wear'] = 3\n",
    "    else:\n",
    "        df2_PP_F.loc[index,'Wear'] = 4      \n",
    "\n",
    "df2_PP_F = pd.concat([df2_PP_F, test_onehot],axis = 1).drop(['Sample','Wet/Dry'], axis = 1).reset_index(drop = True)\n",
    "df2_PP_F['Wear'] = pd.to_numeric(df2_PP_F['Wear'])\n",
    "\n",
    "test_onehot = pd.get_dummies(df2_CP_F['Wet/Dry'])\n",
    "\n",
    "for index, row in df2_CP_F.iterrows():\n",
    "    if row['Wear'] == 'Unused':\n",
    "        df2_CP_F.loc[index,'Wear'] = 1\n",
    "    elif row['Wear'] == 'Light':\n",
    "        df2_CP_F.loc[index,'Wear'] = 2\n",
    "    elif row['Wear'] == 'Moderate':\n",
    "        df2_CP_F.loc[index,'Wear'] = 3\n",
    "    else:\n",
    "        df2_CP_F.loc[index,'Wear'] = 4  \n",
    "        \n",
    "df2_CP_F = pd.concat([df2_CP_F, test_onehot],axis = 1).drop(['Sample','Wet/Dry'], axis = 1).reset_index(drop = True)\n",
    "df2_CP_F['Wear']=pd.to_numeric(df2_CP_F['Wear'])\n",
    "\n",
    "test_onehot = pd.get_dummies(df2_PP_B['Wet/Dry'])\n",
    "\n",
    "for index, row in df2_PP_B.iterrows():\n",
    "    if row['Wear'] == 'Unused':\n",
    "        df2_PP_B.loc[index,'Wear'] = 1\n",
    "    elif row['Wear'] == 'Light':\n",
    "        df2_PP_B.loc[index,'Wear'] = 2\n",
    "    elif row['Wear'] == 'Moderate':\n",
    "        df2_PP_B.loc[index,'Wear'] = 3\n",
    "    else:\n",
    "        df2_PP_B.loc[index,'Wear'] = 4  \n",
    "        \n",
    "df2_PP_B = pd.concat([df2_PP_B, test_onehot],axis = 1).drop(['Sample','Wet/Dry'], axis = 1).reset_index(drop = True)\n",
    "df2_PP_B['Wear']=pd.to_numeric(df2_PP_B['Wear'])\n",
    "\n",
    "test_onehot = pd.get_dummies(df2_CP_B['Wet/Dry'])\n",
    "\n",
    "for index, row in df2_CP_B.iterrows():\n",
    "    if row['Wear'] == 'Unused':\n",
    "        df2_CP_B.loc[index,'Wear'] = 1\n",
    "    elif row['Wear'] == 'Light':\n",
    "        df2_CP_B.loc[index,'Wear'] = 2\n",
    "    elif row['Wear'] == 'Moderate':\n",
    "        df2_CP_B.loc[index,'Wear'] = 3\n",
    "    else:\n",
    "        df2_CP_B.loc[index,'Wear'] = 4  \n",
    "        \n",
    "df2_CP_B = pd.concat([df2_CP_B, test_onehot],axis = 1).drop(['Sample','Wet/Dry'], axis = 1).reset_index(drop = True)\n",
    "df2_CP_B['Wear']=pd.to_numeric(df2_CP_B['Wear'])"
   ]
  },
  {
   "cell_type": "markdown",
   "metadata": {},
   "source": [
    "The results were further divided so as to examine the effects of the bullet's calibre"
   ]
  },
  {
   "cell_type": "code",
   "execution_count": 4,
   "metadata": {},
   "outputs": [],
   "source": [
    "## split 22 and 38 cal\n",
    "\n",
    "df2_PP_F_22 = df2_PP_F[df2_PP_F['Caliber'] == 22]\n",
    "df2_PP_B_22 = df2_PP_B[df2_PP_B['Caliber'] == 22]\n",
    "df2_CP_F_22 = df2_CP_F[df2_CP_F['Caliber'] == 22]\n",
    "df2_CP_B_22 = df2_CP_B[df2_CP_B['Caliber'] == 22]\n",
    "\n",
    "df2_PP_F_38 = df2_PP_F[df2_PP_F['Caliber'] == 38]\n",
    "df2_PP_B_38 = df2_PP_B[df2_PP_B['Caliber'] == 38]\n",
    "df2_CP_F_38 = df2_CP_F[df2_CP_F['Caliber'] == 38]\n",
    "df2_CP_B_38 = df2_CP_B[df2_CP_B['Caliber'] == 38]"
   ]
  },
  {
   "cell_type": "markdown",
   "metadata": {},
   "source": [
    "## Visualisation"
   ]
  },
  {
   "cell_type": "markdown",
   "metadata": {},
   "source": [
    "First create the X and Y variables, with the extent of wear and wet/dry condition as the X variables and velocity related data as the Y variables. "
   ]
  },
  {
   "cell_type": "code",
   "execution_count": 5,
   "metadata": {},
   "outputs": [],
   "source": [
    "## Create x and y variables. Y will contain velocity related columns\n",
    "\n",
    "## for 22 cal\n",
    "df2_PP_F_22_y = df2_PP_F_22['PP average vel (ft/s)']\n",
    "df2_PP_F_22_x = df2_PP_F_22.drop(columns = ['PP average vel (ft/s)','Dry','Caliber'], axis = 1)\n",
    "\n",
    "df2_PP_B_22_y = df2_PP_B_22['PP average vel (ft/s)']\n",
    "df2_PP_B_22_x = df2_PP_B_22.drop(columns = ['PP average vel (ft/s)','Dry','Caliber'], axis = 1)\n",
    "\n",
    "df2_CP_F_22_y = df2_CP_F_22['CP (ft/s)']\n",
    "df2_CP_F_22_x = df2_CP_F_22.drop(columns = ['CP (ft/s)','Dry','Caliber'], axis = 1)\n",
    "\n",
    "df2_CP_B_22_y = df2_CP_B_22['CP (ft/s)']\n",
    "df2_CP_B_22_x = df2_CP_B_22.drop(columns = ['CP (ft/s)','Dry','Caliber'], axis = 1)\n",
    "\n",
    "## for 38 cal\n",
    "df2_PP_F_38_y = df2_PP_F_38['PP average vel (ft/s)']\n",
    "df2_PP_F_38_x = df2_PP_F_38.drop(columns = ['PP average vel (ft/s)','Dry','Caliber'], axis = 1)\n",
    "\n",
    "df2_PP_B_22_y = df2_PP_B_38['PP average vel (ft/s)']\n",
    "df2_PP_B_22_x = df2_PP_B_38.drop(columns = ['PP average vel (ft/s)','Dry','Caliber'], axis = 1)\n",
    "\n",
    "df2_CP_F_38_y = df2_CP_F_38['CP (ft/s)']\n",
    "df2_CP_F_38_x = df2_CP_F_38.drop(columns = ['CP (ft/s)','Dry','Caliber'], axis = 1)\n",
    "\n",
    "df2_CP_B_38_y = df2_CP_B_38['CP (ft/s)']\n",
    "df2_CP_B_38_x = df2_CP_B_38.drop(columns = ['CP (ft/s)','Dry','Caliber'], axis = 1)"
   ]
  },
  {
   "cell_type": "markdown",
   "metadata": {},
   "source": [
    "As a first check, a correlation heatmap was generated between the velocity and the two features. "
   ]
  },
  {
   "cell_type": "code",
   "execution_count": 6,
   "metadata": {},
   "outputs": [
    {
     "name": "stdout",
     "output_type": "stream",
     "text": [
      "\n",
      "\n"
     ]
    },
    {
     "data": {
      "image/png": "[encoded data removed]",
      "text/plain": [
       "<Figure size 576x288 with 4 Axes>"
      ]
     },
     "metadata": {
      "needs_background": "light"
     },
     "output_type": "display_data"
    },
    {
     "data": {
      "image/png": "[encoded data removed]",
      "text/plain": [
       "<Figure size 576x288 with 4 Axes>"
      ]
     },
     "metadata": {
      "needs_background": "light"
     },
     "output_type": "display_data"
    }
   ],
   "source": [
    "## Visualise correlation between velocity and the two features (wear and wet/dry) [for PP]. From the plots, does not appear to have strong correlation with either.\n",
    "import seaborn as sns\n",
    "%matplotlib inline\n",
    "import matplotlib.pyplot as plt\n",
    "\n",
    "## for 22 caliber\n",
    "\n",
    "plt.figure(1,figsize=plt.figaspect(0.5))\n",
    "plt.subplot(1,2,1, aspect = 'equal')\n",
    "corr1 = df2_PP_F_22.drop(['Dry','Caliber'],axis = 1).corr()\n",
    "sns.heatmap(corr1)\n",
    "\n",
    "plt.subplot(1,2,2, aspect = 'equal')\n",
    "corr2 = df2_PP_B_22.drop(['Dry','Caliber'],axis = 1).corr()\n",
    "sns.heatmap(corr2)\n",
    "\n",
    "plt.tight_layout()\n",
    "\n",
    "print(\"\\n\")\n",
    "\n",
    "## for 38 caliber\n",
    "plt.figure(2,figsize=plt.figaspect(0.5))\n",
    "plt.subplot(1,2,1, aspect = 'equal')\n",
    "corr3 = df2_PP_F_38.drop(['Dry','Caliber'],axis = 1).corr()\n",
    "sns.heatmap(corr3)\n",
    "\n",
    "plt.subplot(1,2,2, aspect = 'equal')\n",
    "corr4 = df2_PP_B_38.drop(['Dry','Caliber'],axis = 1).corr()\n",
    "sns.heatmap(corr4)\n",
    "\n",
    "plt.tight_layout()"
   ]
  },
  {
   "cell_type": "code",
   "execution_count": 7,
   "metadata": {},
   "outputs": [
    {
     "data": {
      "image/png": "[encoded data removed]",
      "text/plain": [
       "<Figure size 576x288 with 4 Axes>"
      ]
     },
     "metadata": {
      "needs_background": "light"
     },
     "output_type": "display_data"
    },
    {
     "data": {
      "image/png": "[encoded data removed]",
      "text/plain": [
       "<Figure size 576x288 with 4 Axes>"
      ]
     },
     "metadata": {
      "needs_background": "light"
     },
     "output_type": "display_data"
    }
   ],
   "source": [
    "## Visualise correlation between velocity and the two features (wear and wet/dry) [for CP]. From the plots, does not appear to have strong correlation with either\n",
    "\n",
    "## for 22 cal\n",
    "\n",
    "plt.figure(3,figsize=plt.figaspect(0.5))\n",
    "plt.subplot(1,2,1, aspect = 'equal')\n",
    "corr5 = df2_CP_F_22.drop(['Dry','Caliber'],axis = 1).corr()\n",
    "sns.heatmap(corr5)\n",
    "\n",
    "plt.subplot(1,2,2, aspect = 'equal')\n",
    "corr6 = df2_CP_B_22.drop(['Dry','Caliber'],axis = 1).corr()\n",
    "sns.heatmap(corr6)\n",
    "\n",
    "plt.tight_layout()\n",
    "\n",
    "plt.figure(4,figsize=plt.figaspect(0.5))\n",
    "plt.subplot(1,2,1, aspect = 'equal')\n",
    "corr7 = df2_CP_F_38.drop(['Dry','Caliber'],axis = 1).corr()\n",
    "sns.heatmap(corr7)\n",
    "\n",
    "plt.subplot(1,2,2, aspect = 'equal')\n",
    "corr8 = df2_CP_B_38.drop(['Dry','Caliber'],axis = 1).corr()\n",
    "sns.heatmap(corr8)\n",
    "\n",
    "plt.tight_layout()"
   ]
  },
  {
   "cell_type": "code",
   "execution_count": 8,
   "metadata": {},
   "outputs": [],
   "source": [
    "# import matplotlib.pyplot as plt\n",
    "# from mpl_toolkits.mplot3d import Axes3D\n",
    "\n",
    "# fig = plt.figure(3, figsize=plt.figaspect(0.5))\n",
    "# ax = fig.add_subplot(1,2,1, projection = '3d')\n",
    "# ax.scatter(df2_PP_F_x.iloc[:,0],df2_PP_F_x.iloc[:,1],df2_PP_F_y)\n",
    "\n",
    "# ax2 = fig.add_subplot(1,2,2, projection = '3d')\n",
    "# ax2.scatter(df2_CP_F_x.iloc[:,0],df2_CP_F_x.iloc[:,1],df2_CP_F_y)\n",
    "\n",
    "# plt.tight_layout()"
   ]
  },
  {
   "cell_type": "markdown",
   "metadata": {},
   "source": [
    "Boxplots were used to examine whether there were significant differences between wet and dry test cases"
   ]
  },
  {
   "cell_type": "code",
   "execution_count": 9,
   "metadata": {},
   "outputs": [
    {
     "name": "stdout",
     "output_type": "stream",
     "text": [
      "\n",
      "\n",
      "\n",
      "\n",
      "\n"
     ]
    },
    {
     "data": {
      "image/png": "[encoded data removed]",
      "text/plain": [
       "<Figure size 576x288 with 2 Axes>"
      ]
     },
     "metadata": {
      "needs_background": "light"
     },
     "output_type": "display_data"
    },
    {
     "data": {
      "image/png": "[encoded data removed]",
      "text/plain": [
       "<Figure size 576x288 with 2 Axes>"
      ]
     },
     "metadata": {
      "needs_background": "light"
     },
     "output_type": "display_data"
    }
   ],
   "source": [
    "## Try visualising with boxplot to see if there's a significant difference between wet and dry test cases. Does not appear to exist for both CP and PP cases\n",
    "\n",
    "Box_CP_22 = df2_CP[df2_CP['Caliber']==22]\n",
    "Box_CP_38 = df2_CP[df2_CP['Caliber']==38]\n",
    "\n",
    "Box_PP_22 = df2_PP[df2_PP['Caliber']==22]\n",
    "Box_PP_38 = df2_PP[df2_PP['Caliber']==38]\n",
    "\n",
    "## 22 cal\n",
    "\n",
    "Box_CP_22 = Box_CP_22[['CP (ft/s)','Wet/Dry','Wear']]\n",
    "Box_PP_22 = Box_PP_22[['PP average vel (ft/s)','Wet/Dry','Wear']]\n",
    "\n",
    "fig5, ax5 = plt.subplots(1,2, figsize = plt.figaspect(0.5))\n",
    "\n",
    "sns.boxplot(y = Box_PP_22['PP average vel (ft/s)'], x = Box_PP_22['Wet/Dry'], ax = ax5[0]).set_ylim([950,1400])\n",
    "sns.boxplot(y = Box_CP_22['CP (ft/s)'], x = Box_CP_22['Wet/Dry'], ax = ax5[1]).set_ylim([950,1400])\n",
    "\n",
    "plt.tight_layout()\n",
    "\n",
    "print(\"\\n\\n\\n\\n\")\n",
    "\n",
    "## 38 cal\n",
    "\n",
    "Box_CP_38 = Box_CP_38[['CP (ft/s)','Wet/Dry','Wear']]\n",
    "Box_PP_38 = Box_PP_38[['PP average vel (ft/s)','Wet/Dry','Wear']]\n",
    "\n",
    "fig6, ax6 = plt.subplots(1,2, figsize = plt.figaspect(0.5))\n",
    "\n",
    "sns.boxplot(y = Box_PP_38['PP average vel (ft/s)'], x = Box_PP_38['Wet/Dry'], ax = ax6[0]).set_ylim([950,1400])\n",
    "sns.boxplot(y = Box_CP_38['CP (ft/s)'], x = Box_CP_38['Wet/Dry'], ax = ax6[1]).set_ylim([950,1400])\n",
    "\n",
    "plt.tight_layout()"
   ]
  },
  {
   "cell_type": "markdown",
   "metadata": {},
   "source": [
    "The effects of wear were also examined using boxplots."
   ]
  },
  {
   "cell_type": "code",
   "execution_count": 10,
   "metadata": {},
   "outputs": [
    {
     "data": {
      "image/png": "[encoded data removed]",
      "text/plain": [
       "<Figure size 576x288 with 2 Axes>"
      ]
     },
     "metadata": {
      "needs_background": "light"
     },
     "output_type": "display_data"
    },
    {
     "data": {
      "image/png": "[encoded data removed]",
      "text/plain": [
       "<Figure size 576x288 with 2 Axes>"
      ]
     },
     "metadata": {
      "needs_background": "light"
     },
     "output_type": "display_data"
    }
   ],
   "source": [
    "## There seems to be a trend of heavy wear affecting both PP and CP, but still lies within one quartile of the median. Potential area to delve deeper into it? Oddly, unused samples also seem to have lower PP/CP values\n",
    "\n",
    "## 22 cal\n",
    "\n",
    "fig7, ax7 = plt.subplots(1,2, figsize = plt.figaspect(0.5))\n",
    "\n",
    "position = ['Unused','Light','Moderate','Heavy']\n",
    "\n",
    "sns.boxplot(y = Box_PP_22['PP average vel (ft/s)'], x =  Box_PP_22['Wear'], ax = ax7[0], order = position).set_ylim([950,1400])\n",
    "sns.boxplot(y = Box_CP_22['CP (ft/s)'], x = Box_CP_22['Wear'], ax = ax7[1], order = position).set_ylim([950,1400])\n",
    "\n",
    "plt.tight_layout()\n",
    "\n",
    "## 38 cal\n",
    "\n",
    "fig8, ax8 = plt.subplots(1,2, figsize = plt.figaspect(0.5))\n",
    "\n",
    "sns.boxplot(y = Box_PP_38['PP average vel (ft/s)'], x = Box_PP_38['Wear'], ax = ax8[0], order = position).set_ylim([950,1400])\n",
    "sns.boxplot(y = Box_CP_38['CP (ft/s)'], x = Box_CP_38['Wear'], ax = ax8[1], order = position).set_ylim([950,1400])\n",
    "\n",
    "plt.tight_layout()"
   ]
  },
  {
   "cell_type": "code",
   "execution_count": 11,
   "metadata": {},
   "outputs": [],
   "source": [
    "## extract 22 cal info\n",
    "\n",
    "PP_unused_22 = Box_PP_22[Box_PP_22['Wear'] == 'Unused']['PP average vel (ft/s)']\n",
    "PP_light_22 = Box_PP_22[Box_PP_22['Wear'] == 'Light']['PP average vel (ft/s)']\n",
    "PP_mod_22 = Box_PP_22[Box_PP_22['Wear'] == 'Moderate']['PP average vel (ft/s)']\n",
    "PP_heavy_22 = Box_PP_22[Box_PP_22['Wear'] == 'Heavy']['PP average vel (ft/s)']\n",
    "CP_unused_22 = Box_CP_22[Box_CP_22['Wear'] == 'Unused']['CP (ft/s)']\n",
    "CP_light_22 = Box_CP_22[Box_CP_22['Wear'] == 'Light']['CP (ft/s)']\n",
    "CP_mod_22 = Box_CP_22[Box_CP_22['Wear'] == 'Moderate']['CP (ft/s)']\n",
    "CP_heavy_22 = Box_CP_22[Box_CP_22['Wear'] == 'Heavy']['CP (ft/s)']\n",
    "\n",
    "## extract 38 cal info\n",
    "\n",
    "PP_unused_38 = Box_PP_38[Box_PP_38['Wear'] == 'Unused']['PP average vel (ft/s)']\n",
    "PP_light_38 = Box_PP_38[Box_PP_38['Wear'] == 'Light']['PP average vel (ft/s)']\n",
    "PP_mod_38 = Box_PP_38[Box_PP_38['Wear'] == 'Moderate']['PP average vel (ft/s)']\n",
    "PP_heavy_38 = Box_PP_38[Box_PP_38['Wear'] == 'Heavy']['PP average vel (ft/s)']\n",
    "CP_unused_38 = Box_CP_38[Box_CP_38['Wear'] == 'Unused']['CP (ft/s)']\n",
    "CP_light_38 = Box_CP_38[Box_CP_38['Wear'] == 'Light']['CP (ft/s)']\n",
    "CP_mod_38 = Box_CP_38[Box_CP_38['Wear'] == 'Moderate']['CP (ft/s)']\n",
    "CP_heavy_38 = Box_CP_38[Box_CP_38['Wear'] == 'Heavy']['CP (ft/s)']"
   ]
  },
  {
   "cell_type": "code",
   "execution_count": 12,
   "metadata": {},
   "outputs": [],
   "source": [
    "# plt.hist(PP_unused, label = 'unused')\n",
    "# plt.hist(PP_heavy, label = 'heavy')\n",
    "# plt.hist(PP_mod, label = 'moderate')\n",
    "# plt.legend(loc = 'best')"
   ]
  },
  {
   "cell_type": "code",
   "execution_count": 13,
   "metadata": {},
   "outputs": [],
   "source": [
    "# plt.hist(CP_unused, label = 'unused')\n",
    "# plt.hist(CP_heavy, label = 'heavy')\n",
    "# plt.hist(CP_mod, label = 'moderate')\n",
    "# plt.legend(loc = 'best')"
   ]
  },
  {
   "cell_type": "markdown",
   "metadata": {},
   "source": [
    "## Analysis"
   ]
  },
  {
   "cell_type": "markdown",
   "metadata": {},
   "source": [
    "Apply statistical tests (t-test) to check if velocities within each wear category were indeed significantly different"
   ]
  },
  {
   "cell_type": "code",
   "execution_count": 14,
   "metadata": {},
   "outputs": [
    {
     "name": "stdout",
     "output_type": "stream",
     "text": [
      "22cal: t test score between light and unused CP values: 4.628314952952042, with a p-value of 1.6776853743997112e-05\n",
      "22cal: t test score between moderate and unused CP values: 3.3012866642566303, with a p-value of 0.001517059507602925\n",
      "22cal: t test score between heavy and unused CP values: -3.476099248989602, with a p-value of 0.0007362313705980899\n",
      "22cal: t test score between light and moderate CP values: 1.3272667014879374, with a p-value of 0.192138443449568\n",
      "22cal: t test score between light and heavy CP values: 6.871379840573956, with a p-value of 1.5325946017045295e-09\n",
      "22cal: t test score between moderate and heavy CP values: 5.686168261851595, with a p-value of 2.2265685417322547e-07\n",
      "38cal: t test score between light and unused CP values: 1.7157555772475375, with a p-value of 0.09154460367908442\n",
      "38cal: t test score between moderate and unused CP values: 1.4880586905432316, with a p-value of 0.14215253491906255\n",
      "38cal: t test score between heavy and unused CP values: 1.1329577254981267, with a p-value of 0.2608409035964914\n",
      "38cal: t test score between light and moderate CP values: 0.2189874379168478, with a p-value of 0.827831808025734\n",
      "38cal: t test score between light and heavy CP values: 0.9908030660526291, with a p-value of 0.3261208225511436\n",
      "38cal: t test score between moderate and heavy CP values: 0.7189924143487525, with a p-value of 0.47518938834696256\n"
     ]
    }
   ],
   "source": [
    "## Use t-test to check if velocities within each wear category are indeed different. For both CP and PP, difference there appears to be difference between moderate and heavy wear\n",
    "\n",
    "## 22 cal\n",
    "from scipy import stats\n",
    "print('22cal: t test score between light and unused CP values: ' + stats.ttest_ind(CP_light_22,CP_unused_22).statistic.astype(str) + ', with a p-value of ' + stats.ttest_ind(CP_light_22,CP_unused_22).pvalue.astype(str))\n",
    "print('22cal: t test score between moderate and unused CP values: ' + stats.ttest_ind(CP_mod_22,CP_unused_22).statistic.astype(str) + ', with a p-value of ' + stats.ttest_ind(CP_mod_22,CP_unused_22).pvalue.astype(str))\n",
    "print('22cal: t test score between heavy and unused CP values: ' + stats.ttest_ind(CP_heavy_22,CP_unused_22).statistic.astype(str) + ', with a p-value of ' + stats.ttest_ind(CP_heavy_22,CP_unused_22).pvalue.astype(str))\n",
    "print('22cal: t test score between light and moderate CP values: ' + stats.ttest_ind(CP_light_22,CP_mod_22).statistic.astype(str) + ', with a p-value of ' + stats.ttest_ind(CP_light_22,CP_mod_22).pvalue.astype(str))\n",
    "print('22cal: t test score between light and heavy CP values: ' + stats.ttest_ind(CP_light_22,CP_heavy_22).statistic.astype(str) + ', with a p-value of ' + stats.ttest_ind(CP_light_22,CP_heavy_22).pvalue.astype(str))\n",
    "print('22cal: t test score between moderate and heavy CP values: ' + stats.ttest_ind(CP_mod_22,CP_heavy_22).statistic.astype(str) + ', with a p-value of ' + stats.ttest_ind(CP_mod_22,CP_heavy_22).pvalue.astype(str))\n",
    "\n",
    "## 38 cal\n",
    "from scipy import stats\n",
    "print('38cal: t test score between light and unused CP values: ' + stats.ttest_ind(CP_light_38,CP_unused_38).statistic.astype(str) + ', with a p-value of ' + stats.ttest_ind(CP_light_38,CP_unused_38).pvalue.astype(str))\n",
    "print('38cal: t test score between moderate and unused CP values: ' + stats.ttest_ind(CP_mod_38,CP_unused_38).statistic.astype(str) + ', with a p-value of ' + stats.ttest_ind(CP_mod_38,CP_unused_38).pvalue.astype(str))\n",
    "print('38cal: t test score between heavy and unused CP values: ' + stats.ttest_ind(CP_heavy_38,CP_unused_38).statistic.astype(str) + ', with a p-value of ' + stats.ttest_ind(CP_heavy_38,CP_unused_38).pvalue.astype(str))\n",
    "print('38cal: t test score between light and moderate CP values: ' + stats.ttest_ind(CP_light_38,CP_mod_38).statistic.astype(str) + ', with a p-value of ' + stats.ttest_ind(CP_light_38,CP_mod_38).pvalue.astype(str))\n",
    "print('38cal: t test score between light and heavy CP values: ' + stats.ttest_ind(CP_light_38,CP_heavy_38).statistic.astype(str) + ', with a p-value of ' + stats.ttest_ind(CP_light_38,CP_heavy_38).pvalue.astype(str))\n",
    "print('38cal: t test score between moderate and heavy CP values: ' + stats.ttest_ind(CP_mod_38,CP_heavy_38).statistic.astype(str) + ', with a p-value of ' + stats.ttest_ind(CP_mod_38,CP_heavy_38).pvalue.astype(str))\n"
   ]
  },
  {
   "cell_type": "code",
   "execution_count": 15,
   "metadata": {},
   "outputs": [
    {
     "name": "stdout",
     "output_type": "stream",
     "text": [
      "22 cal: t test score between light and unused PP values: 3.1125964042866756, with a p-value of 0.0027120226067881637\n",
      "22 cal: t test score between moderate and unused PP values: 2.6048639070444684, with a p-value of 0.01134549928749282\n",
      "22 cal: t test score between heavy and unused PP values: -2.7595307449965323, with a p-value of 0.006852247192017041\n",
      "22 cal: t test score between light and moderate PP values: -0.33253453676340444, with a p-value of 0.7412221573850055\n",
      "22 cal: t test score between light and heavy PP values: 6.684009303349074, with a p-value of 3.275954475783365e-09\n",
      "22 cal: t test score between moderate and heavy PP values: 5.770072670086825, with a p-value of 1.6762773628109553e-07\n",
      "38 cal: t test score between light and unused PP values: 1.5693384161600288, with a p-value of 0.12200912237287286\n",
      "38 cal: t test score between moderate and unused PP values: 2.873808952446328, with a p-value of 0.0056592863300223535\n",
      "38 cal: t test score between heavy and unused PP values: 1.9338954950146392, with a p-value of 0.05695025869813323\n",
      "38 cal: t test score between light and moderate PP values: 1.5681758270085357, with a p-value of 0.1251307213948506\n",
      "38 cal: t test score between light and heavy PP values: -0.19189283473889368, with a p-value of 0.8485459268557052\n",
      "38 cal: t test score between moderate and heavy PP values: 1.288501324560638, with a p-value of 0.20306489020412624\n"
     ]
    }
   ],
   "source": [
    "## 22 cal\n",
    "print('22 cal: t test score between light and unused PP values: ' + stats.ttest_ind(PP_light_22,PP_unused_22).statistic.astype(str) + ', with a p-value of ' + stats.ttest_ind(PP_light_22,PP_unused_22).pvalue.astype(str))\n",
    "print('22 cal: t test score between moderate and unused PP values: ' + stats.ttest_ind(PP_mod_22,PP_unused_22).statistic.astype(str) + ', with a p-value of ' + stats.ttest_ind(PP_mod_22,PP_unused_22).pvalue.astype(str))\n",
    "print('22 cal: t test score between heavy and unused PP values: ' + stats.ttest_ind(PP_heavy_22,PP_unused_22).statistic.astype(str) + ', with a p-value of ' + stats.ttest_ind(PP_heavy_22,PP_unused_22).pvalue.astype(str))\n",
    "print('22 cal: t test score between light and moderate PP values: ' + stats.ttest_ind(PP_mod_22,PP_light_22).statistic.astype(str) + ', with a p-value of ' + stats.ttest_ind(PP_mod_22,PP_light_22).pvalue.astype(str))\n",
    "print('22 cal: t test score between light and heavy PP values: ' + stats.ttest_ind(PP_light_22,PP_heavy_22).statistic.astype(str) + ', with a p-value of ' + stats.ttest_ind(PP_light_22,PP_heavy_22).pvalue.astype(str))\n",
    "print('22 cal: t test score between moderate and heavy PP values: ' + stats.ttest_ind(PP_mod_22,PP_heavy_22).statistic.astype(str) + ', with a p-value of ' + stats.ttest_ind(PP_mod_22,PP_heavy_22).pvalue.astype(str))\n",
    "\n",
    "## 38 cal\n",
    "print('38 cal: t test score between light and unused PP values: ' + stats.ttest_ind(PP_light_38,PP_unused_38).statistic.astype(str) + ', with a p-value of ' + stats.ttest_ind(PP_light_38,PP_unused_38).pvalue.astype(str))\n",
    "print('38 cal: t test score between moderate and unused PP values: ' + stats.ttest_ind(PP_mod_38,PP_unused_38).statistic.astype(str) + ', with a p-value of ' + stats.ttest_ind(PP_mod_38,PP_unused_38).pvalue.astype(str))\n",
    "print('38 cal: t test score between heavy and unused PP values: ' + stats.ttest_ind(PP_heavy_38,PP_unused_38).statistic.astype(str) + ', with a p-value of ' + stats.ttest_ind(PP_heavy_38,PP_unused_38).pvalue.astype(str))\n",
    "print('38 cal: t test score between light and moderate PP values: ' + stats.ttest_ind(PP_mod_38,PP_light_38).statistic.astype(str) + ', with a p-value of ' + stats.ttest_ind(PP_mod_38,PP_light_38).pvalue.astype(str))\n",
    "print('38 cal: t test score between light and heavy PP values: ' + stats.ttest_ind(PP_light_38,PP_heavy_38).statistic.astype(str) + ', with a p-value of ' + stats.ttest_ind(PP_light_38,PP_heavy_38).pvalue.astype(str))\n",
    "print('38 cal: t test score between moderate and heavy PP values: ' + stats.ttest_ind(PP_mod_38,PP_heavy_38).statistic.astype(str) + ', with a p-value of ' + stats.ttest_ind(PP_mod_38,PP_heavy_38).pvalue.astype(str))\n"
   ]
  },
  {
   "cell_type": "code",
   "execution_count": 16,
   "metadata": {},
   "outputs": [],
   "source": [
    "## Is there a significant difference between front vs back? Use CP for 22 cal to check\n",
    "\n",
    "CP_mod_F_22 = df2_CP_F_22[df2_CP_F_22['Wear'] == 3]['CP (ft/s)']\n",
    "CP_mod_B_22 = df2_CP_B_22[df2_CP_B_22['Wear'] == 3]['CP (ft/s)']\n",
    "\n",
    "CP_heavy_F_22 = df2_CP_F_22[df2_CP_F_22['Wear'] == 4]['CP (ft/s)']\n",
    "CP_heavy_B_22 = df2_CP_B_22[df2_CP_B_22['Wear'] == 4]['CP (ft/s)']"
   ]
  },
  {
   "cell_type": "code",
   "execution_count": 17,
   "metadata": {},
   "outputs": [],
   "source": [
    "# plt.subplot(1,2,1)\n",
    "# plt.hist(CP_mod_F_22, label = 'moderate, front')\n",
    "# plt.hist(CP_mod_B_22, label = 'moderate,back')\n",
    "# plt.legend(loc = 'best')\n",
    "\n",
    "# plt.subplot(1,2,2)\n",
    "# plt.hist(CP_heavy_F_22, label = 'heavy, front')\n",
    "# plt.hist(CP_heavy_B_22, label = 'heavy,back')\n",
    "# plt.legend(loc = 'best')"
   ]
  },
  {
   "cell_type": "code",
   "execution_count": 18,
   "metadata": {},
   "outputs": [
    {
     "name": "stdout",
     "output_type": "stream",
     "text": [
      "t test score between moderate front and moderate back CP values: -0.7980374675660492, with a p-value of 0.4347103610903553\n",
      "t test score between heavy front and heavy back CP values: 1.3686021091523353, with a p-value of 0.17658923122499756\n"
     ]
    }
   ],
   "source": [
    "print('t test score between moderate front and moderate back CP values: ' + stats.ttest_ind(CP_mod_F_22,CP_mod_B_22).statistic.astype(str) + ', with a p-value of ' + stats.ttest_ind(CP_mod_F_22,CP_mod_B_22).pvalue.astype(str))\n",
    "print('t test score between heavy front and heavy back CP values: ' + stats.ttest_ind(CP_heavy_F_22,CP_heavy_B_22).statistic.astype(str) + ', with a p-value of ' + stats.ttest_ind(CP_heavy_F_22,CP_heavy_B_22).pvalue.astype(str))\n",
    "\n",
    "## there appears to be some difference between front and back. Hence, don't merge"
   ]
  },
  {
   "cell_type": "markdown",
   "metadata": {},
   "source": [
    "## Regression"
   ]
  },
  {
   "cell_type": "markdown",
   "metadata": {},
   "source": [
    "The data was further analysed by attempting to fit regression models to the data and examining the goodness of fit."
   ]
  },
  {
   "cell_type": "code",
   "execution_count": 19,
   "metadata": {
    "scrolled": true
   },
   "outputs": [
    {
     "name": "stdout",
     "output_type": "stream",
     "text": [
      "-0.0015285856499671624\n"
     ]
    },
    {
     "data": {
      "text/plain": [
       "[<matplotlib.lines.Line2D at 0x1a0acafc588>]"
      ]
     },
     "execution_count": 19,
     "metadata": {},
     "output_type": "execute_result"
    },
    {
     "data": {
      "image/png": "[encoded data removed]",
      "text/plain": [
       "<Figure size 432x288 with 1 Axes>"
      ]
     },
     "metadata": {
      "needs_background": "light"
     },
     "output_type": "display_data"
    }
   ],
   "source": [
    "## Test out some learning algorithms between velocities and wear using 22 cal (both front/back)\n",
    "\n",
    "from sklearn.linear_model import LinearRegression\n",
    "from sklearn.linear_model import Lasso\n",
    "from sklearn.preprocessing import PolynomialFeatures\n",
    "from sklearn.model_selection import train_test_split\n",
    "from sklearn.model_selection import GridSearchCV\n",
    "\n",
    "PP_22_x = df2_PP_F_22_x['Wear']\n",
    "PP_22_x = PP_22_x.append(df2_PP_B_22_x['Wear'])\n",
    "PP_22_y = df2_PP_F_22_y\n",
    "PP_22_y = PP_22_y.append(df2_PP_B_22_y)\n",
    "X1_train, X1_test, y1_train, y1_test = train_test_split(pd.DataFrame(PP_22_x), PP_22_y)\n",
    "lin_reg = LinearRegression().fit(X1_train, y1_train)\n",
    "print(lin_reg.score(X1_test,y1_test))\n",
    "\n",
    "x_test = pd.DataFrame(np.linspace(0,4,10))\n",
    "\n",
    "y_pred = lin_reg.predict(x_test)\n",
    "\n",
    "plt.scatter(PP_22_x,PP_22_y)\n",
    "plt.plot(x_test,y_pred,'red')"
   ]
  },
  {
   "cell_type": "code",
   "execution_count": 20,
   "metadata": {},
   "outputs": [
    {
     "name": "stdout",
     "output_type": "stream",
     "text": [
      "-0.15717022679660864\n"
     ]
    },
    {
     "data": {
      "text/plain": [
       "[<matplotlib.lines.Line2D at 0x1a0acbaf248>]"
      ]
     },
     "execution_count": 20,
     "metadata": {},
     "output_type": "execute_result"
    },
    {
     "data": {
      "image/png": "[encoded data removed]",
      "text/plain": [
       "<Figure size 432x288 with 1 Axes>"
      ]
     },
     "metadata": {
      "needs_background": "light"
     },
     "output_type": "display_data"
    }
   ],
   "source": [
    "poly = PolynomialFeatures(degree = 2)\n",
    "X_PP_22_poly = poly.fit_transform(pd.DataFrame(PP_22_x))\n",
    "\n",
    "X1_train, X1_test, y1_train, y1_test = train_test_split(X_PP_22_poly, PP_22_y)\n",
    "\n",
    "lin_reg2 = LinearRegression() \n",
    "poly1 = lin_reg2.fit(X1_train, y1_train)\n",
    "print(lin_reg2.score(X1_test,y1_test))\n",
    "\n",
    "y_poly1_pred = poly1.predict(poly.fit_transform(x_test))\n",
    "\n",
    "plt.scatter(PP_22_x,PP_22_y)\n",
    "plt.plot(x_test,y_poly1_pred,'red')"
   ]
  },
  {
   "cell_type": "code",
   "execution_count": 22,
   "metadata": {},
   "outputs": [
    {
     "name": "stdout",
     "output_type": "stream",
     "text": [
      "0.11898395373510928\n"
     ]
    },
    {
     "data": {
      "text/plain": [
       "[<matplotlib.lines.Line2D at 0x1a0acd1a748>]"
      ]
     },
     "execution_count": 22,
     "metadata": {},
     "output_type": "execute_result"
    },
    {
     "data": {
      "image/png": "[encoded data removed]",
      "text/plain": [
       "<Figure size 432x288 with 1 Axes>"
      ]
     },
     "metadata": {
      "needs_background": "light"
     },
     "output_type": "display_data"
    }
   ],
   "source": [
    "## Test out some learning algorithms between velocities and wear using 22 cal (both front/back)\n",
    "\n",
    "from sklearn.linear_model import LinearRegression\n",
    "from sklearn.linear_model import Lasso\n",
    "from sklearn.preprocessing import PolynomialFeatures\n",
    "from sklearn.model_selection import train_test_split\n",
    "from sklearn.model_selection import GridSearchCV\n",
    "\n",
    "CP_22_x = df2_CP_F_22_x['Wear']\n",
    "CP_22_x = CP_22_x.append(df2_CP_B_22_x['Wear'])\n",
    "CP_22_y = df2_CP_F_22_y\n",
    "CP_22_y = CP_22_y.append(df2_CP_B_22_y)\n",
    "X1_train3, X1_test3, y1_train3, y1_test3 = train_test_split(pd.DataFrame(CP_22_x), CP_22_y)\n",
    "lin_reg3 = LinearRegression().fit(X1_train3, y1_train3)\n",
    "print(lin_reg3.score(X1_test3,y1_test3))\n",
    "\n",
    "x_test = pd.DataFrame(np.linspace(0,4,10))\n",
    "\n",
    "y_pred = lin_reg3.predict(x_test)\n",
    "\n",
    "plt.scatter(CP_22_x,CP_22_y)\n",
    "plt.plot(x_test,y_pred,'red')"
   ]
  },
  {
   "cell_type": "code",
   "execution_count": 23,
   "metadata": {},
   "outputs": [
    {
     "name": "stdout",
     "output_type": "stream",
     "text": [
      "0.24464287109906072\n"
     ]
    },
    {
     "data": {
      "text/plain": [
       "[<matplotlib.lines.Line2D at 0x1a0acd82188>]"
      ]
     },
     "execution_count": 23,
     "metadata": {},
     "output_type": "execute_result"
    },
    {
     "data": {
      "image/png": "[encoded data removed]",
      "text/plain": [
       "<Figure size 432x288 with 1 Axes>"
      ]
     },
     "metadata": {
      "needs_background": "light"
     },
     "output_type": "display_data"
    }
   ],
   "source": [
    "poly = PolynomialFeatures(degree = 2)\n",
    "X_CP_22_poly = poly.fit_transform(pd.DataFrame(CP_22_x))\n",
    "\n",
    "X1_train4, X1_test4, y1_train4, y1_test4 = train_test_split(X_CP_22_poly, CP_22_y)\n",
    "\n",
    "lin_reg4 = LinearRegression() \n",
    "poly2 = lin_reg4.fit(X1_train4, y1_train4)\n",
    "print(lin_reg4.score(X1_test4,y1_test4))\n",
    "\n",
    "y_poly1_pred = poly2.predict(poly.fit_transform(x_test))\n",
    "\n",
    "plt.scatter(CP_22_x,CP_22_y)\n",
    "plt.plot(x_test,y_poly1_pred,'red')"
   ]
  },
  {
   "cell_type": "code",
   "execution_count": 24,
   "metadata": {},
   "outputs": [
    {
     "name": "stdout",
     "output_type": "stream",
     "text": [
      "0.030303030303030304\n"
     ]
    },
    {
     "data": {
      "text/plain": [
       "[<matplotlib.lines.Line2D at 0x1a0acdf6c08>]"
      ]
     },
     "execution_count": 24,
     "metadata": {},
     "output_type": "execute_result"
    },
    {
     "data": {
      "image/png": "[encoded data removed]",
      "text/plain": [
       "<Figure size 432x288 with 1 Axes>"
      ]
     },
     "metadata": {
      "needs_background": "light"
     },
     "output_type": "display_data"
    }
   ],
   "source": [
    "from sklearn.naive_bayes import GaussianNB\n",
    "\n",
    "X1_train, X1_test, y1_train, y1_test = train_test_split(pd.DataFrame(PP_22_x), PP_22_y)\n",
    "\n",
    "nbclf = GaussianNB().fit(X1_train,y1_train)\n",
    "print(nbclf.score(X1_test,y1_test))\n",
    "\n",
    "y_nbclf_pred = nbclf.predict(x_test)\n",
    "\n",
    "plt.scatter(PP_22_x,PP_22_y)\n",
    "plt.plot(x_test,y_nbclf_pred,'red')"
   ]
  },
  {
   "cell_type": "code",
   "execution_count": null,
   "metadata": {},
   "outputs": [],
   "source": [
    "from sklearn.ensemble import GradientBoostingClassifier\n",
    "\n",
    "X1_train, X1_test, y1_train, y1_test = train_test_split(pd.DataFrame(PP_22_x), PP_22_y)\n",
    "\n",
    "GBclf = GradientBoostingClassifier()\n",
    "# GBclf = GradientBoostingClassifier().fit(X1_train,y1_train)\n",
    "\n",
    "# print(GBclf.score(X1_test,y1_test))\n",
    "\n",
    "param_val = {'n_estimators':[50,100,1000],'learning_rate':[0.01,0.1,1],'max_depth':[2,3,5]}\n",
    "grid_GB_clf = GridSearchCV(GBclf, param_grid = param_val)\n",
    "grid_GB_clf.fit(X1_train,y1_train)\n",
    "print(grid_GB_clf.best_score_)\n",
    "\n",
    "y_gbclf_pred = grid_GB_clf.predict(x_test)\n",
    "\n",
    "plt.scatter(PP_22_x,PP_22_y)\n",
    "plt.plot(x_test,y_gbclf_pred,'red')"
   ]
  },
  {
   "cell_type": "code",
   "execution_count": null,
   "metadata": {},
   "outputs": [],
   "source": []
  }
 ],
 "metadata": {
  "kernelspec": {
   "display_name": "Python 3 (ipykernel)",
   "language": "python",
   "name": "python3"
  },
  "language_info": {
   "codemirror_mode": {
    "name": "ipython",
    "version": 3
   },
   "file_extension": ".py",
   "mimetype": "text/x-python",
   "name": "python",
   "nbconvert_exporter": "python",
   "pygments_lexer": "ipython3",
   "version": "3.9.0"
  }
 },
 "nbformat": 4,
 "nbformat_minor": 4
}
